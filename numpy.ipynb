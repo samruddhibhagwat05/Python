{
 "cells": [
  {
   "cell_type": "code",
   "execution_count": 2,
   "id": "2383130e-1859-4db9-8470-0581e45abe4a",
   "metadata": {},
   "outputs": [],
   "source": [
    "import numpy as np"
   ]
  },
  {
   "cell_type": "markdown",
   "id": "67fbabd8-e035-4d3e-97ab-79f4696c5016",
   "metadata": {},
   "source": [
    "## Creating Numpy Arrays"
   ]
  },
  {
   "cell_type": "code",
   "execution_count": 6,
   "id": "b40dac8e-dfb9-45bf-ad6f-de49dba75b69",
   "metadata": {},
   "outputs": [
    {
     "data": {
      "text/plain": [
       "array([3, 4, 5])"
      ]
     },
     "execution_count": 6,
     "metadata": {},
     "output_type": "execute_result"
    }
   ],
   "source": [
    "a=np.array([3,4,5])    #1D A rray\n",
    "a     "
   ]
  },
  {
   "cell_type": "code",
   "execution_count": 7,
   "id": "dd71ffbe-f38a-4960-856d-0687d30a61d2",
   "metadata": {},
   "outputs": [
    {
     "data": {
      "text/plain": [
       "array([[3, 4, 5],\n",
       "       [6, 7, 8]])"
      ]
     },
     "execution_count": 7,
     "metadata": {},
     "output_type": "execute_result"
    }
   ],
   "source": [
    "np.array([[3,4,5],[6,7,8]])  #2D Array"
   ]
  },
  {
   "cell_type": "code",
   "execution_count": 8,
   "id": "1be5f7c6-d15f-4615-b2d0-9973747cf774",
   "metadata": {},
   "outputs": [
    {
     "data": {
      "text/plain": [
       "array([[0., 0., 0.],\n",
       "       [0., 0., 0.],\n",
       "       [0., 0., 0.],\n",
       "       [0., 0., 0.]])"
      ]
     },
     "execution_count": 8,
     "metadata": {},
     "output_type": "execute_result"
    }
   ],
   "source": [
    "np.zeros((4,3))  #print rows and columns all zeros"
   ]
  },
  {
   "cell_type": "code",
   "execution_count": 9,
   "id": "77376058-c537-4613-9b6c-036b9098f601",
   "metadata": {},
   "outputs": [
    {
     "data": {
      "text/plain": [
       "array([0, 2, 4, 6, 8])"
      ]
     },
     "execution_count": 9,
     "metadata": {},
     "output_type": "execute_result"
    }
   ],
   "source": [
    "np.arange(0,10,2)\n",
    "# it is a range start,stop,step gives output in array form"
   ]
  },
  {
   "cell_type": "code",
   "execution_count": 10,
   "id": "2003e125-a183-4ef6-803f-e06ed6d72d9a",
   "metadata": {},
   "outputs": [
    {
     "data": {
      "text/plain": [
       "array([[1., 0., 0.],\n",
       "       [0., 1., 0.],\n",
       "       [0., 0., 1.]])"
      ]
     },
     "execution_count": 10,
     "metadata": {},
     "output_type": "execute_result"
    }
   ],
   "source": [
    "np.eye(3)  # print identity matrix"
   ]
  },
  {
   "cell_type": "code",
   "execution_count": 11,
   "id": "3ee0e387-8643-4b22-8db3-a4e58d9f655d",
   "metadata": {},
   "outputs": [
    {
     "data": {
      "text/plain": [
       "array([[1., 1., 1.],\n",
       "       [1., 1., 1.],\n",
       "       [1., 1., 1.]])"
      ]
     },
     "execution_count": 11,
     "metadata": {},
     "output_type": "execute_result"
    }
   ],
   "source": [
    "np.ones((3,3))   # print only ones "
   ]
  },
  {
   "cell_type": "code",
   "execution_count": 12,
   "id": "d09041fe-2bb4-4686-9754-03e4b88b45d2",
   "metadata": {},
   "outputs": [
    {
     "data": {
      "text/plain": [
       "array([0.  , 0.25, 0.5 , 0.75, 1.  ])"
      ]
     },
     "execution_count": 12,
     "metadata": {},
     "output_type": "execute_result"
    }
   ],
   "source": [
    "np.linspace(0,1,5)"
   ]
  },
  {
   "cell_type": "code",
   "execution_count": 13,
   "id": "ca272a78-63b0-40f9-93e3-ff9b99197e4f",
   "metadata": {},
   "outputs": [
    {
     "data": {
      "text/plain": [
       "array([[5, 5, 5],\n",
       "       [5, 5, 5],\n",
       "       [5, 5, 5]])"
      ]
     },
     "execution_count": 13,
     "metadata": {},
     "output_type": "execute_result"
    }
   ],
   "source": [
    "np.full((3,3),5)  # it means it printd 3 rows and 3 columns of 5"
   ]
  },
  {
   "cell_type": "markdown",
   "id": "b5b28e82-b393-4652-a748-76e61f80d724",
   "metadata": {},
   "source": [
    "## Array Attributes"
   ]
  },
  {
   "cell_type": "code",
   "execution_count": 14,
   "id": "f88331af-416b-4ca6-8ce4-d9abc3c3e441",
   "metadata": {},
   "outputs": [
    {
     "data": {
      "text/plain": [
       "array([[[1, 2, 3],\n",
       "        [4, 5, 6],\n",
       "        [7, 8, 9]]])"
      ]
     },
     "execution_count": 14,
     "metadata": {},
     "output_type": "execute_result"
    }
   ],
   "source": [
    "arr=np.array([[[1,2,3],[4,5,6],[7,8,9]]])\n",
    "arr"
   ]
  },
  {
   "cell_type": "code",
   "execution_count": 15,
   "id": "18461d49-84f0-40a9-826d-ded99f9b8999",
   "metadata": {},
   "outputs": [
    {
     "name": "stdout",
     "output_type": "stream",
     "text": [
      "(1, 3, 3)\n"
     ]
    }
   ],
   "source": [
    "print(arr.shape)  # tells the rows and columns"
   ]
  },
  {
   "cell_type": "code",
   "execution_count": 16,
   "id": "abf7d1f6-d3ee-4124-8f87-f43e065e33d1",
   "metadata": {},
   "outputs": [
    {
     "name": "stdout",
     "output_type": "stream",
     "text": [
      "3\n"
     ]
    }
   ],
   "source": [
    "print(arr.ndim)  # tells 1D or 2d array"
   ]
  },
  {
   "cell_type": "code",
   "execution_count": 17,
   "id": "cbcf4aaf-867f-4fcd-97a1-3d6075680bc0",
   "metadata": {},
   "outputs": [
    {
     "name": "stdout",
     "output_type": "stream",
     "text": [
      "9\n"
     ]
    }
   ],
   "source": [
    "print(arr.size)   # total elements"
   ]
  },
  {
   "cell_type": "code",
   "execution_count": 18,
   "id": "7c26e628-4d21-49ca-b7ad-3c289eeb4616",
   "metadata": {},
   "outputs": [
    {
     "name": "stdout",
     "output_type": "stream",
     "text": [
      "int64\n"
     ]
    }
   ],
   "source": [
    "print(arr.dtype)   # datatype"
   ]
  },
  {
   "cell_type": "code",
   "execution_count": 19,
   "id": "2df6c5f4-22ee-42a4-b390-606b7e2016b1",
   "metadata": {},
   "outputs": [
    {
     "name": "stdout",
     "output_type": "stream",
     "text": [
      "8\n"
     ]
    }
   ],
   "source": [
    "print(arr.itemsize)  # bytes per elements"
   ]
  },
  {
   "cell_type": "markdown",
   "id": "a078ae0a-31c7-4d4c-9c09-06546f1f5663",
   "metadata": {},
   "source": [
    "## Indexing and Slicing"
   ]
  },
  {
   "cell_type": "code",
   "execution_count": 21,
   "id": "43880d33-f9aa-4b88-a51f-e6bf97641c1f",
   "metadata": {},
   "outputs": [
    {
     "data": {
      "text/plain": [
       "array([[1, 2, 3],\n",
       "       [4, 5, 6]])"
      ]
     },
     "execution_count": 21,
     "metadata": {},
     "output_type": "execute_result"
    }
   ],
   "source": [
    "a=np.array([[1,2,3],[4,5,6]])\n",
    "a"
   ]
  },
  {
   "cell_type": "code",
   "execution_count": 28,
   "id": "2a819571-5407-4517-a735-0006f51e4a0a",
   "metadata": {},
   "outputs": [
    {
     "name": "stdout",
     "output_type": "stream",
     "text": [
      "[[1 2 3]\n",
      " [4 5 6]] [2, 4]\n"
     ]
    }
   ],
   "source": [
    "print(a,[2,4])  # adds the array in 2nd row"
   ]
  },
  {
   "cell_type": "code",
   "execution_count": 40,
   "id": "73e37900-a6c6-443e-abb8-a1f18137233b",
   "metadata": {},
   "outputs": [
    {
     "name": "stdout",
     "output_type": "stream",
     "text": [
      "[4 5]\n"
     ]
    }
   ],
   "source": [
    "print(a[1,:2])"
   ]
  },
  {
   "cell_type": "markdown",
   "id": "3b5ed229-5f86-44be-8461-9dfce4617bef",
   "metadata": {},
   "source": [
    "## Array Operations"
   ]
  },
  {
   "cell_type": "code",
   "execution_count": 42,
   "id": "f786e61c-19cf-446d-9466-d5cd55895cd5",
   "metadata": {},
   "outputs": [],
   "source": [
    "a=np.array([4,5,6])\n",
    "b=np.array([6,7,8])"
   ]
  },
  {
   "cell_type": "code",
   "execution_count": 44,
   "id": "2091e993-d63f-400d-8f42-bfc65c121efc",
   "metadata": {},
   "outputs": [
    {
     "name": "stdout",
     "output_type": "stream",
     "text": [
      "[10 12 14]\n",
      "[24 35 48]\n",
      "[-2 -2 -2]\n",
      "[   4096   78125 1679616]\n"
     ]
    }
   ],
   "source": [
    "print(a+b)\n",
    "print(a*b)\n",
    "print(a-b)\n",
    "print(a**b)  # sq roots"
   ]
  },
  {
   "cell_type": "markdown",
   "id": "4be49b0a-a82a-4cd1-b392-8ff67dbf3ddd",
   "metadata": {},
   "source": [
    "## Broadcasting"
   ]
  },
  {
   "cell_type": "code",
   "execution_count": 57,
   "id": "fe74a758-9c00-42c1-b06d-c78a8065517f",
   "metadata": {},
   "outputs": [],
   "source": [
    "a=np.array([[4],[5],[6]])\n",
    "b=np.array([6,7,8])"
   ]
  },
  {
   "cell_type": "code",
   "execution_count": 58,
   "id": "4a842376-2622-4db9-8bbf-6ab68c8e6df6",
   "metadata": {},
   "outputs": [
    {
     "name": "stdout",
     "output_type": "stream",
     "text": [
      "(3, 1)\n"
     ]
    }
   ],
   "source": [
    "print(a.shape)"
   ]
  },
  {
   "cell_type": "code",
   "execution_count": 59,
   "id": "21d0f7db-42d6-4f7c-90b3-a50f108847e9",
   "metadata": {},
   "outputs": [
    {
     "name": "stdout",
     "output_type": "stream",
     "text": [
      "(3,)\n"
     ]
    }
   ],
   "source": [
    "print(b.shape)"
   ]
  },
  {
   "cell_type": "code",
   "execution_count": 60,
   "id": "11fda26c-b0c6-4db7-85c2-923c60b1ca5a",
   "metadata": {},
   "outputs": [
    {
     "name": "stdout",
     "output_type": "stream",
     "text": [
      "[[10 11 12]\n",
      " [11 12 13]\n",
      " [12 13 14]]\n"
     ]
    }
   ],
   "source": [
    "print(a+b)"
   ]
  },
  {
   "cell_type": "markdown",
   "id": "68ec83ee-2d3b-47cf-86d1-63a2ee813319",
   "metadata": {},
   "source": [
    "## Mathematical Operations"
   ]
  },
  {
   "cell_type": "code",
   "execution_count": 3,
   "id": "8ef68504-5adc-4547-92b0-fb527ec4b3e7",
   "metadata": {},
   "outputs": [],
   "source": [
    "a=np.array([1,2,3,4])"
   ]
  },
  {
   "cell_type": "code",
   "execution_count": 4,
   "id": "ecc5a404-e864-4a7a-b582-bdb78eca0f12",
   "metadata": {},
   "outputs": [
    {
     "name": "stdout",
     "output_type": "stream",
     "text": [
      "[[1 2]\n",
      " [3 4]]\n"
     ]
    }
   ],
   "source": [
    "print(a.reshape(2,2))"
   ]
  },
  {
   "cell_type": "code",
   "execution_count": 94,
   "id": "99e510ad-a902-472d-b581-53b4c55a3920",
   "metadata": {},
   "outputs": [
    {
     "name": "stdout",
     "output_type": "stream",
     "text": [
      "2.5\n"
     ]
    }
   ],
   "source": [
    "print(np.mean(a))"
   ]
  },
  {
   "cell_type": "code",
   "execution_count": 95,
   "id": "a76ca573-4ca9-466e-8580-4c86672ad69c",
   "metadata": {},
   "outputs": [
    {
     "name": "stdout",
     "output_type": "stream",
     "text": [
      "10\n"
     ]
    }
   ],
   "source": [
    "print(np.sum(a))"
   ]
  },
  {
   "cell_type": "code",
   "execution_count": 96,
   "id": "7c10f1b3-a8d9-41af-b65f-4e6117a02bf2",
   "metadata": {},
   "outputs": [
    {
     "name": "stdout",
     "output_type": "stream",
     "text": [
      "2.5\n"
     ]
    }
   ],
   "source": [
    "print(np.median(a))"
   ]
  },
  {
   "cell_type": "code",
   "execution_count": 97,
   "id": "a3f9c6e3-03c6-48d3-8f25-506e22fe3d5a",
   "metadata": {},
   "outputs": [
    {
     "name": "stdout",
     "output_type": "stream",
     "text": [
      "1.25\n"
     ]
    }
   ],
   "source": [
    "print(np.var(a))"
   ]
  },
  {
   "cell_type": "code",
   "execution_count": 98,
   "id": "3e652c28-e310-4eb1-ab31-d25246c470b7",
   "metadata": {},
   "outputs": [
    {
     "name": "stdout",
     "output_type": "stream",
     "text": [
      "1.118033988749895\n"
     ]
    }
   ],
   "source": [
    "print(np.std(a))"
   ]
  },
  {
   "cell_type": "code",
   "execution_count": 99,
   "id": "9b763178-1a76-47f1-927f-90f0bf5e1f0a",
   "metadata": {},
   "outputs": [
    {
     "name": "stdout",
     "output_type": "stream",
     "text": [
      "4\n"
     ]
    }
   ],
   "source": [
    "print(np.max(a))"
   ]
  },
  {
   "cell_type": "code",
   "execution_count": 100,
   "id": "d76f3dee-4a5e-46ab-9360-8918f89f8567",
   "metadata": {},
   "outputs": [
    {
     "name": "stdout",
     "output_type": "stream",
     "text": [
      "1\n"
     ]
    }
   ],
   "source": [
    "print(np.min(a))"
   ]
  },
  {
   "cell_type": "code",
   "execution_count": 103,
   "id": "d8f539e7-2278-4b95-9c97-562d0fc8a47a",
   "metadata": {},
   "outputs": [
    {
     "name": "stdout",
     "output_type": "stream",
     "text": [
      "[ 1  4  9 16]\n"
     ]
    }
   ],
   "source": [
    "print(np.square(a)) "
   ]
  },
  {
   "cell_type": "markdown",
   "id": "31deec8e-6fde-4adb-9134-2623de62cd31",
   "metadata": {},
   "source": [
    "## Reshaping and Resizing"
   ]
  },
  {
   "cell_type": "code",
   "execution_count": 114,
   "id": "104fed5a-3d25-4e67-ba17-42f0077f4322",
   "metadata": {},
   "outputs": [
    {
     "data": {
      "text/plain": [
       "array([[1, 2],\n",
       "       [3, 2],\n",
       "       [4, 5]])"
      ]
     },
     "execution_count": 114,
     "metadata": {},
     "output_type": "execute_result"
    }
   ],
   "source": [
    "a=np.array([[1,2],[3,2],[4,5]])\n",
    "a"
   ]
  },
  {
   "cell_type": "code",
   "execution_count": 105,
   "id": "301e611d-30bf-46e5-934b-c0952dcb3813",
   "metadata": {},
   "outputs": [
    {
     "name": "stdout",
     "output_type": "stream",
     "text": [
      "[[1 2 3]\n",
      " [2 4 5]]\n"
     ]
    }
   ],
   "source": [
    "print(a.reshape(2,3))  # it reshaped into three columns and two rows"
   ]
  },
  {
   "cell_type": "code",
   "execution_count": 106,
   "id": "85fa8f21-4a70-439e-a994-ce0aac29c03d",
   "metadata": {},
   "outputs": [
    {
     "name": "stdout",
     "output_type": "stream",
     "text": [
      "[1 2 3 2 4 5]\n"
     ]
    }
   ],
   "source": [
    "print(a.flatten())  # flattens into 1d array"
   ]
  },
  {
   "cell_type": "markdown",
   "id": "a507376e-de30-43ec-b21e-3c7bfb57b040",
   "metadata": {},
   "source": [
    "## Random Module in Numpy"
   ]
  },
  {
   "cell_type": "code",
   "execution_count": 109,
   "id": "b6603013-6dd2-4943-a8c4-ec753e05e24f",
   "metadata": {},
   "outputs": [],
   "source": [
    "a=np.random.seed(0)\n",
    "a"
   ]
  },
  {
   "cell_type": "code",
   "execution_count": 111,
   "id": "edc46d03-c899-4f85-815d-24e6fcdda141",
   "metadata": {},
   "outputs": [
    {
     "data": {
      "text/plain": [
       "array([[0.43758721, 0.891773  ],\n",
       "       [0.96366276, 0.38344152],\n",
       "       [0.79172504, 0.52889492]])"
      ]
     },
     "execution_count": 111,
     "metadata": {},
     "output_type": "execute_result"
    }
   ],
   "source": [
    "np.random.rand(3,2)  # gives random float 0 to 1"
   ]
  },
  {
   "cell_type": "markdown",
   "id": "b4b11079-c6a8-4308-a8a4-e0e16c4a1654",
   "metadata": {},
   "source": [
    "## Useful functions"
   ]
  },
  {
   "cell_type": "code",
   "execution_count": 117,
   "id": "4dd42b87-d49c-4876-9ad8-e687198f7efb",
   "metadata": {},
   "outputs": [],
   "source": [
    "s=([1,4,3,5,2])"
   ]
  },
  {
   "cell_type": "code",
   "execution_count": 119,
   "id": "67023e6d-cd09-4b89-adba-bef818d71e52",
   "metadata": {},
   "outputs": [
    {
     "data": {
      "text/plain": [
       "array([1, 2, 3, 4, 5])"
      ]
     },
     "execution_count": 119,
     "metadata": {},
     "output_type": "execute_result"
    }
   ],
   "source": [
    "np.unique(s)"
   ]
  },
  {
   "cell_type": "code",
   "execution_count": 120,
   "id": "aa93761c-4005-476d-9f26-e41f0c200bcf",
   "metadata": {},
   "outputs": [
    {
     "data": {
      "text/plain": [
       "array([1, 2, 3, 4, 5])"
      ]
     },
     "execution_count": 120,
     "metadata": {},
     "output_type": "execute_result"
    }
   ],
   "source": [
    "np.sort(s)"
   ]
  },
  {
   "cell_type": "code",
   "execution_count": 121,
   "id": "1908c054-ae54-4635-b214-5cdbf525db86",
   "metadata": {},
   "outputs": [
    {
     "data": {
      "text/plain": [
       "array([0, 4, 2, 1, 3])"
      ]
     },
     "execution_count": 121,
     "metadata": {},
     "output_type": "execute_result"
    }
   ],
   "source": [
    "np.argsort(s)"
   ]
  },
  {
   "cell_type": "code",
   "execution_count": null,
   "id": "15e070c0-488f-4dbd-81cb-76fed45707a9",
   "metadata": {},
   "outputs": [],
   "source": []
  }
 ],
 "metadata": {
  "kernelspec": {
   "display_name": "Python 3 (ipykernel)",
   "language": "python",
   "name": "python3"
  },
  "language_info": {
   "codemirror_mode": {
    "name": "ipython",
    "version": 3
   },
   "file_extension": ".py",
   "mimetype": "text/x-python",
   "name": "python",
   "nbconvert_exporter": "python",
   "pygments_lexer": "ipython3",
   "version": "3.12.7"
  }
 },
 "nbformat": 4,
 "nbformat_minor": 5
}
