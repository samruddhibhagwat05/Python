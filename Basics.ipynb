{
 "cells": [
  {
   "cell_type": "markdown",
   "id": "9169238c-a7b8-4ec3-9448-b17cb221434f",
   "metadata": {},
   "source": [
    "## Basic python programs"
   ]
  },
  {
   "cell_type": "code",
   "execution_count": 1,
   "id": "ef204bc6-aa0c-4eb2-905f-a0e2eb2006ef",
   "metadata": {},
   "outputs": [
    {
     "name": "stdin",
     "output_type": "stream",
     "text": [
      "enter the number 1: 6\n",
      "enter the the number 2: 7\n"
     ]
    },
    {
     "name": "stdout",
     "output_type": "stream",
     "text": [
      "the sum of the two numbers is : 13\n"
     ]
    }
   ],
   "source": [
    "num1=int(input(\"enter the number 1:\"))\n",
    "num2=int(input(\"enter the the number 2:\"))\n",
    "\n",
    "sum=num1+num2\n",
    "print(\"the sum of the two numbers is :\",sum)"
   ]
  },
  {
   "cell_type": "code",
   "execution_count": 2,
   "id": "3b377b11-8a81-43d9-affa-08a745d673e2",
   "metadata": {},
   "outputs": [
    {
     "name": "stdout",
     "output_type": "stream",
     "text": [
      "after swapping the numbers: 30\n",
      "after swapping the numbers: 20\n"
     ]
    }
   ],
   "source": [
    "num1=20\n",
    "num2=30\n",
    "\n",
    "temp=num1\n",
    "num1=num2\n",
    "num2=temp\n",
    "\n",
    "\n",
    "print(\"after swapping the numbers:\",num1)\n",
    "print(\"after swapping the numbers:\",num2)"
   ]
  },
  {
   "cell_type": "code",
   "execution_count": 3,
   "id": "29ac0684-056c-4c1b-b72d-09090ecb688f",
   "metadata": {},
   "outputs": [
    {
     "name": "stdout",
     "output_type": "stream",
     "text": [
      "after swapping:\n",
      "a is b: 20\n",
      "b is a: 10\n"
     ]
    }
   ],
   "source": [
    "a=10\n",
    "b=20\n",
    "\n",
    "a,b=b,a\n",
    "\n",
    "print(\"after swapping:\")\n",
    "print(\"a is b:\",a)\n",
    "print(\"b is a:\",b)"
   ]
  },
  {
   "cell_type": "code",
   "execution_count": 4,
   "id": "8ee569b9-7c27-4ff3-b7d6-a881be6758e2",
   "metadata": {},
   "outputs": [
    {
     "name": "stdin",
     "output_type": "stream",
     "text": [
      "enter the temprature 67\n"
     ]
    },
    {
     "name": "stdout",
     "output_type": "stream",
     "text": [
      "the temprature in degree celsius converted into fahrenite is: 152.6\n"
     ]
    }
   ],
   "source": [
    "temprature1 = int(input(\"enter the temprature\")) # temprature in degree celsius \n",
    "\n",
    "Fahrenite=(temprature1 * 9/5) + 32 # formula to convert the degree celsius into fahernite\n",
    "\n",
    "print(\"the temprature in degree celsius converted into fahrenite is:\",Fahrenite)\n"
   ]
  },
  {
   "cell_type": "code",
   "execution_count": 5,
   "id": "0d41051f-f30b-469a-a782-ed7f7786a731",
   "metadata": {},
   "outputs": [
    {
     "name": "stdin",
     "output_type": "stream",
     "text": [
      "enter the radius for the circle 7\n"
     ]
    },
    {
     "name": "stdout",
     "output_type": "stream",
     "text": [
      "the area of the circle is: 153.93804002589985\n"
     ]
    }
   ],
   "source": [
    "import math\n",
    "r=int(input(\"enter the radius for the circle\"))\n",
    "pi=math.pi\n",
    "\n",
    "area=pi*r**2\n",
    "\n",
    "print(\"the area of the circle is:\",area)"
   ]
  },
  {
   "cell_type": "code",
   "execution_count": 6,
   "id": "64093770-3015-4fb6-94f0-ef436a534b53",
   "metadata": {},
   "outputs": [
    {
     "name": "stdout",
     "output_type": "stream",
     "text": [
      "set()\n"
     ]
    }
   ],
   "source": [
    "my_dict={'1:','Ganesh','2:','Shiv','3:','Parvati'}\n",
    "my_dict.clear()\n",
    "print(my_dict)"
   ]
  },
  {
   "cell_type": "markdown",
   "id": "fbad7b10-5cb6-4d31-aa66-537c1c8d4aff",
   "metadata": {},
   "source": [
    "## conditional statement (if,elif,else)"
   ]
  },
  {
   "cell_type": "code",
   "execution_count": 7,
   "id": "40ea50fd-d003-47a2-823f-3dc0e5fa4284",
   "metadata": {},
   "outputs": [
    {
     "name": "stdin",
     "output_type": "stream",
     "text": [
      "enter the num1: 8\n"
     ]
    },
    {
     "name": "stdout",
     "output_type": "stream",
     "text": [
      "the number is postive: 8\n"
     ]
    }
   ],
   "source": [
    "num1=int(input(\"enter the num1:\"))\n",
    "\n",
    "if(num1<0):\n",
    "    print(\"the number is negative:\",num1)\n",
    "elif(num1>0):\n",
    "    print(\"the number is postive:\",num1)\n",
    "else:\n",
    "    print(\"number is 0\")\n",
    "  "
   ]
  },
  {
   "cell_type": "code",
   "execution_count": 8,
   "id": "182f384b-7149-446a-a13d-e4ddc2e28266",
   "metadata": {},
   "outputs": [
    {
     "name": "stdin",
     "output_type": "stream",
     "text": [
      "Enter a year:  2005\n"
     ]
    },
    {
     "name": "stdout",
     "output_type": "stream",
     "text": [
      "it is  not a leap year\n"
     ]
    }
   ],
   "source": [
    "year = int(input(\"Enter a year: \"))\n",
    "\n",
    "if(year%4==0):\n",
    "    print(\"it is a leap year\")\n",
    "else:\n",
    "    print(\"it is  not a leap year\")"
   ]
  },
  {
   "cell_type": "code",
   "execution_count": 9,
   "id": "fe134246-df14-4804-9e09-9415e7cfc6a2",
   "metadata": {},
   "outputs": [
    {
     "name": "stdin",
     "output_type": "stream",
     "text": [
      "enter the num1: 56\n",
      "enter num2: 70\n"
     ]
    },
    {
     "name": "stdout",
     "output_type": "stream",
     "text": [
      "choose operators:,-,/,%,,*\n"
     ]
    },
    {
     "name": "stdin",
     "output_type": "stream",
     "text": [
      "enter the operator  *\n"
     ]
    },
    {
     "name": "stdout",
     "output_type": "stream",
     "text": [
      "multiplication: 3920.0\n"
     ]
    }
   ],
   "source": [
    "num1=float(input(\"enter the num1:\"))\n",
    "num2=float(input(\"enter num2:\"))\n",
    "\n",
    "print(\"choose operators:,-,/,%,,*\")\n",
    "operators=input(\"enter the operator \")\n",
    "\n",
    "if (operators=='+'):\n",
    "    print(\"addition :\",num1+num2)\n",
    "\n",
    "elif(operators=='-'):\n",
    "    print(\"subtraction:\",num1-num2)\n",
    "\n",
    "elif(operators=='/'):\n",
    "    print(\"division:\",num1/num2)\n",
    "\n",
    "elif(operators=='*'):\n",
    "    print(\"multiplication:\",num1*num2)\n",
    "\n",
    "elif(operators=='%'):\n",
    "    print(\"modulo:\",num1%num2)\n",
    "\n",
    "\n",
    "else:\n",
    "    print(\"invalid operators\")\n",
    "\n",
    "\n"
   ]
  },
  {
   "cell_type": "markdown",
   "id": "14bd0ba8-4e33-4410-8a3d-d60c15be3d2c",
   "metadata": {},
   "source": [
    "# loops ( for , while)"
   ]
  },
  {
   "cell_type": "code",
   "execution_count": 10,
   "id": "c41d1b19-7110-49a4-a4ea-9f7acd910d06",
   "metadata": {},
   "outputs": [
    {
     "name": "stdout",
     "output_type": "stream",
     "text": [
      "1\n",
      "2\n",
      "3\n",
      "4\n",
      "5\n",
      "6\n",
      "7\n",
      "8\n",
      "9\n",
      "10\n",
      "11\n",
      "12\n",
      "13\n",
      "14\n",
      "15\n",
      "16\n",
      "17\n",
      "18\n",
      "19\n",
      "20\n",
      "21\n",
      "22\n",
      "23\n",
      "24\n",
      "25\n",
      "26\n",
      "27\n",
      "28\n",
      "29\n",
      "30\n",
      "31\n",
      "32\n",
      "33\n",
      "34\n",
      "35\n",
      "36\n",
      "37\n",
      "38\n",
      "39\n",
      "40\n",
      "41\n",
      "42\n",
      "43\n",
      "44\n",
      "45\n",
      "46\n",
      "47\n",
      "48\n",
      "49\n",
      "50\n",
      "51\n",
      "52\n",
      "53\n",
      "54\n",
      "55\n",
      "56\n",
      "57\n",
      "58\n",
      "59\n",
      "60\n",
      "61\n",
      "62\n",
      "63\n",
      "64\n",
      "65\n",
      "66\n",
      "67\n",
      "68\n",
      "69\n",
      "70\n",
      "71\n",
      "72\n",
      "73\n",
      "74\n",
      "75\n",
      "76\n",
      "77\n",
      "78\n",
      "79\n",
      "80\n",
      "81\n",
      "82\n",
      "83\n",
      "84\n",
      "85\n",
      "86\n",
      "87\n",
      "88\n",
      "89\n",
      "90\n",
      "91\n",
      "92\n",
      "93\n",
      "94\n",
      "95\n",
      "96\n",
      "97\n",
      "98\n",
      "99\n",
      "100\n"
     ]
    }
   ],
   "source": [
    "for i in range(1,101):\n",
    "     print(i)\n"
   ]
  },
  {
   "cell_type": "code",
   "execution_count": 11,
   "id": "feeae0c4-a002-463c-93c2-fd7ca4a843a1",
   "metadata": {},
   "outputs": [
    {
     "name": "stdout",
     "output_type": "stream",
     "text": [
      "0\n",
      "2\n",
      "4\n",
      "6\n",
      "8\n",
      "10\n",
      "12\n",
      "14\n",
      "16\n",
      "18\n",
      "20\n",
      "22\n",
      "24\n",
      "26\n",
      "28\n",
      "30\n",
      "32\n",
      "34\n",
      "36\n",
      "38\n",
      "40\n",
      "42\n",
      "44\n",
      "46\n",
      "48\n",
      "50\n"
     ]
    }
   ],
   "source": [
    "for i in range(0,51,2):\n",
    "    print(i)"
   ]
  },
  {
   "cell_type": "code",
   "execution_count": 12,
   "id": "9e8c41c7-e513-4d99-8d33-e76c4df1b34b",
   "metadata": {},
   "outputs": [
    {
     "name": "stdin",
     "output_type": "stream",
     "text": [
      "enter the number: 5\n"
     ]
    },
    {
     "name": "stdout",
     "output_type": "stream",
     "text": [
      "multiplication table for the number you have entered is: 5 x 1 = 5\n",
      "multiplication table for the number you have entered is: 5 x 2 = 10\n",
      "multiplication table for the number you have entered is: 5 x 3 = 15\n",
      "multiplication table for the number you have entered is: 5 x 4 = 20\n",
      "multiplication table for the number you have entered is: 5 x 5 = 25\n",
      "multiplication table for the number you have entered is: 5 x 6 = 30\n",
      "multiplication table for the number you have entered is: 5 x 7 = 35\n",
      "multiplication table for the number you have entered is: 5 x 8 = 40\n",
      "multiplication table for the number you have entered is: 5 x 9 = 45\n",
      "multiplication table for the number you have entered is: 5 x 10 = 50\n"
     ]
    }
   ],
   "source": [
    "num=int(input(\"enter the number:\"))\n",
    "\n",
    "for i in range(1,11):\n",
    "    print(\"multiplication table for the number you have entered is:\",num,\"x\",i, \"=\" ,num*i)\n",
    "    "
   ]
  },
  {
   "cell_type": "code",
   "execution_count": 13,
   "id": "0c0733e1-4403-4358-a2b7-f4839c4aa4e5",
   "metadata": {},
   "outputs": [
    {
     "name": "stdin",
     "output_type": "stream",
     "text": [
      "enter the number: 5\n"
     ]
    },
    {
     "name": "stdout",
     "output_type": "stream",
     "text": [
      "the sum of first  n natural number: 1\n",
      "the sum of first  n natural number: 3\n",
      "the sum of first  n natural number: 6\n",
      "the sum of first  n natural number: 10\n",
      "the sum of first  n natural number: 15\n"
     ]
    }
   ],
   "source": [
    "num=int(input(\"enter the number:\"))\n",
    "\n",
    "sum=0\n",
    "for i in range(1,num+1):\n",
    "    sum +=i\n",
    "    print(\"the sum of first  n natural number:\",sum)\n",
    "    "
   ]
  },
  {
   "cell_type": "code",
   "execution_count": 14,
   "id": "837e3cba-94ce-4180-ad96-2d8067e604f5",
   "metadata": {},
   "outputs": [
    {
     "name": "stdin",
     "output_type": "stream",
     "text": [
      "enter the number 4\n"
     ]
    },
    {
     "name": "stdout",
     "output_type": "stream",
     "text": [
      "the factorial of the number is: 1\n",
      "the factorial of the number is: 2\n",
      "the factorial of the number is: 6\n",
      "the factorial of the number is: 24\n"
     ]
    }
   ],
   "source": [
    "n=int(input(\"enter the number\"))\n",
    "\n",
    "factorial=1\n",
    "\n",
    "for i in range(1,n+1):\n",
    "    factorial *=i\n",
    "    print(\"the factorial of the number is:\",factorial)"
   ]
  },
  {
   "cell_type": "code",
   "execution_count": 15,
   "id": "1921ef47-8b7e-4ac3-b839-693710bf73e5",
   "metadata": {},
   "outputs": [
    {
     "name": "stdin",
     "output_type": "stream",
     "text": [
      "enter the string: free\n"
     ]
    },
    {
     "name": "stdout",
     "output_type": "stream",
     "text": [
      "the number vowels in words are: 2\n"
     ]
    }
   ],
   "source": [
    "word=input(\"enter the string:\")\n",
    "\n",
    "count=0\n",
    "vowels=\"aeiouAEIOU\"\n",
    "\n",
    "for char in word:\n",
    "    if char in vowels:\n",
    "        count+=1\n",
    "print(\"the number vowels in words are:\",count)"
   ]
  },
  {
   "cell_type": "code",
   "execution_count": 16,
   "id": "921fe788-7a9b-4e46-a35b-0c71868fd4f2",
   "metadata": {},
   "outputs": [
    {
     "name": "stdin",
     "output_type": "stream",
     "text": [
      "enter the string man\n"
     ]
    },
    {
     "name": "stdout",
     "output_type": "stream",
     "text": [
      "it is not a palindrome\n"
     ]
    }
   ],
   "source": [
    "string=input(\"enter the string\")\n",
    "\n",
    "reverse=string[::-1]\n",
    "\n",
    "if(string==reverse):\n",
    "    print(\"it is a palindrome\")\n",
    "else:\n",
    "    print(\"it is not a palindrome\")"
   ]
  },
  {
   "cell_type": "markdown",
   "id": "084a0261-2078-4fff-89d3-f63b69d0e35a",
   "metadata": {},
   "source": [
    "## Lists and string \n"
   ]
  },
  {
   "cell_type": "code",
   "execution_count": 17,
   "id": "fbdb30d4-8cd3-4056-81db-bb3ff3595eab",
   "metadata": {},
   "outputs": [
    {
     "name": "stdout",
     "output_type": "stream",
     "text": [
      "<class 'list'>\n",
      "the largest number in string: 89\n"
     ]
    }
   ],
   "source": [
    "x=[23,45,67,89,77]\n",
    "print(type(x))\n",
    "print(\"the largest number in string:\",max(x))"
   ]
  },
  {
   "cell_type": "code",
   "execution_count": 18,
   "id": "68117cc8-ffcd-495a-8dcd-6f4cb676bd32",
   "metadata": {},
   "outputs": [
    {
     "name": "stdout",
     "output_type": "stream",
     "text": [
      "converted statement:\n",
      "THIS IS STRING\n",
      "this is string\n",
      "This Is String\n",
      "tHIs is sTRInG\n",
      "This is string\n",
      "ThiS IS StriNg\n"
     ]
    }
   ],
   "source": [
    "data=\"ThiS IS StriNg\"\n",
    "\n",
    "print(\"converted statement:\")\n",
    "print(data.upper())   # all letters in captial\n",
    "\n",
    "print(data.lower())   #all letters in small \n",
    "\n",
    "print(data.title())   #all letters fiest word in capital\n",
    "\n",
    "print(data.swapcase()) # swapping the text captial to dmall and vice-versa\n",
    "\n",
    "print(data.capitalize()) # only first letter capital\n",
    "\n",
    "print(data) # printing the original statement"
   ]
  },
  {
   "cell_type": "markdown",
   "id": "a0c7bfc3-825e-4f47-b3a2-ae21ddf15f8d",
   "metadata": {},
   "source": [
    "## Functions And Recursion"
   ]
  },
  {
   "cell_type": "code",
   "execution_count": 19,
   "id": "0358c676-da79-4bfa-b391-c089034ab033",
   "metadata": {},
   "outputs": [
    {
     "name": "stdout",
     "output_type": "stream",
     "text": [
      "100\n",
      "200\n",
      "300\n"
     ]
    }
   ],
   "source": [
    "def myfunction():\n",
    "    x=100\n",
    "    a=200\n",
    "    print(x)\n",
    "    print(a)\n",
    "    print(x+a)\n",
    "myfunction()\n"
   ]
  },
  {
   "cell_type": "code",
   "execution_count": null,
   "id": "2ac9f460-6d11-499d-b396-33b9c7f0cf07",
   "metadata": {},
   "outputs": [],
   "source": [
    "x=100\n",
    "def myfunction():\n",
    "    a=200\n",
    "    b=500\n",
    "    print(x)\n",
    "    print(a)\n",
    "    print(b)\n",
    "    print(x+a)\n",
    "    print(x+b)\n",
    "    print(a+b)\n",
    "myfunction()\n"
   ]
  },
  {
   "cell_type": "code",
   "execution_count": null,
   "id": "c90c814a-17f9-4779-af38-d34e95eede34",
   "metadata": {},
   "outputs": [],
   "source": [
    "z=100\n",
    "\n",
    "def myfunction():\n",
    "    a=900\n",
    "    print(a+z)\n",
    "\n",
    "    def myfunction2():\n",
    "        b=200\n",
    "        print(z+a)\n",
    "        print(b+a)\n",
    "        print(z+b)\n",
    "\n",
    "    myfunction2()\n",
    "\n",
    "myfunction()\n",
    "\n"
   ]
  },
  {
   "cell_type": "code",
   "execution_count": null,
   "id": "fde944e9-51f8-450b-92e2-f9a767cbb5e5",
   "metadata": {},
   "outputs": [],
   "source": [
    "def myfunction(a,b,c):\n",
    "    sum=a+b+c\n",
    "    avg=sum/3\n",
    "    print(sum)\n",
    "    print(avg)\n",
    "    \n",
    "myfunction(1,4,5)\n"
   ]
  },
  {
   "cell_type": "code",
   "execution_count": null,
   "id": "2aeb71a1-7fa3-48fb-8818-616a79e36d00",
   "metadata": {},
   "outputs": [],
   "source": [
    "def myfunction(a,d,c):\n",
    "    return a+d+c\n",
    "    return a+d+c/3\n",
    "sum=myfunction(1,2,3)\n",
    "avg=myfunction(1,2,3/3)\n",
    "    \n",
    "print(sum)\n",
    "print(avg)"
   ]
  },
  {
   "cell_type": "code",
   "execution_count": null,
   "id": "6784890e-6066-4f56-bf3f-003c13e25516",
   "metadata": {},
   "outputs": [],
   "source": [
    "def cal_sum(a,b):\n",
    "    return a+b\n",
    "sum=cal_sum(1,2)\n",
    "print(sum)\n"
   ]
  },
  {
   "cell_type": "code",
   "execution_count": null,
   "id": "8fa3e392-c4e5-4038-9815-e5d36988d8cf",
   "metadata": {},
   "outputs": [],
   "source": [
    "numbers=[1,2,4,5,6,7,8]\n",
    "names=['a','b','c','d','e']\n",
    "def myfun(list):\n",
    "    print(len(list))\n",
    "   \n",
    "myfun(numbers)\n",
    "myfun(names)"
   ]
  },
  {
   "cell_type": "code",
   "execution_count": null,
   "id": "2f25e6d9-def2-4363-8a1d-9e890451cf12",
   "metadata": {},
   "outputs": [],
   "source": [
    "numbers=[1,2,4,5,6,7,8]\n",
    "names=['a','b','c','d','e']\n",
    "\n",
    "def myfun(list):\n",
    "    for numbers in list:\n",
    "        print(numbers,end=\" \")\n",
    "myfun(numbers)\n",
    "myfun(names)"
   ]
  },
  {
   "cell_type": "code",
   "execution_count": null,
   "id": "2deec515-5435-4240-a32f-25203b887bf4",
   "metadata": {},
   "outputs": [],
   "source": [
    "def factorial_number(n):\n",
    "    factorial=1\n",
    "    for i in range(1,n+1):\n",
    "        factorial *=i\n",
    "        print(factorial)\n",
    "factorial_number(6)\n"
   ]
  },
  {
   "cell_type": "code",
   "execution_count": null,
   "id": "9978c1f7-d2c8-4f86-8bdb-6ef2aeedb4c9",
   "metadata": {},
   "outputs": [],
   "source": [
    "def converter(usd_value):\n",
    "    ind_value=usd_value*83\n",
    "    print(usd_value,\"usd=\",ind_value,\"inr\")\n",
    "converter(73)"
   ]
  },
  {
   "cell_type": "code",
   "execution_count": null,
   "id": "9ecccd47-23fa-4e23-a33f-df9cde78bbf9",
   "metadata": {},
   "outputs": [],
   "source": [
    "number=int(input(\"enter the number\"))\n",
    "\n",
    "def myfun(number):\n",
    "    if(number%2==0):\n",
    "       print(\"even\")\n",
    "    else:\n",
    "        print(\"odd\")\n",
    "myfun(number)"
   ]
  },
  {
   "cell_type": "code",
   "execution_count": null,
   "id": "63592e2d-0655-4839-9069-af0c909c2e60",
   "metadata": {},
   "outputs": [],
   "source": [
    "def details(Name,Sname,Roll_no,Rank):\n",
    "    print('Name:',Name)\n",
    "    print('Surname:',Sname)\n",
    "    print('Roll.No',Roll_no)\n",
    "    print('Rank:',Rank)\n",
    "\n",
    "details('Samruddhi','Bhagwat',92,5)\n",
    "deatils('"
   ]
  },
  {
   "cell_type": "markdown",
   "id": "9f09a977-d850-43ea-9d70-43b25a775192",
   "metadata": {},
   "source": [
    "## File programming"
   ]
  },
  {
   "cell_type": "code",
   "execution_count": null,
   "id": "3a6866f5-751b-4410-9e3f-82d4306b6cbf",
   "metadata": {},
   "outputs": [],
   "source": [
    "with open(\"C:\\\\Users\\\\HP\\\\OneDrive\\\\Documents\\\\file.txt\", \"w\") as f:\n",
    "    f.write(\"Hi everyone\\nwe are learning file i/o\\nusing java\\ni like programming in java\")\n"
   ]
  },
  {
   "cell_type": "code",
   "execution_count": null,
   "id": "dd2a9734-f5a5-47fe-8887-88e945bd0a53",
   "metadata": {},
   "outputs": [],
   "source": [
    "with open(\"C:\\\\Users\\\\HP\\\\OneDrive\\\\Documents\\\\file.txt\",\"r\") as f:\n",
    "       data= f.read()\n",
    "new_data=data.replace(\"java\",\"python\")\n",
    "print(new_data)\n",
    "\n",
    "with open(\"C:\\\\Users\\\\HP\\\\OneDrive\\\\Documents\\\\file.txt\",'w') as f:\n",
    "    f.write(new_data)\n"
   ]
  },
  {
   "cell_type": "code",
   "execution_count": null,
   "id": "ef14166c-3aa8-45be-95be-71e30067f5b2",
   "metadata": {},
   "outputs": [],
   "source": [
    "word=\"learning\"\n",
    "with open(\"C:\\\\Users\\\\HP\\\\OneDrive\\\\Documents\\\\file.txt\",\"r\") as f:\n",
    "    data= f.read()\n",
    "    if(data.find(word)!=-1):\n",
    "        print(\"found\")\n",
    "    else:\n",
    "        print(\"not found\")"
   ]
  },
  {
   "cell_type": "markdown",
   "id": "9f7d8890-08f3-4a48-9e4f-d87a742ea63f",
   "metadata": {},
   "source": [
    "## Object oreinted programming"
   ]
  },
  {
   "cell_type": "code",
   "execution_count": 27,
   "id": "5afd5935-80c3-4c51-bb72-63f8824cb06f",
   "metadata": {},
   "outputs": [
    {
     "name": "stdout",
     "output_type": "stream",
     "text": [
      "Samruddhi Bhagwat\n"
     ]
    }
   ],
   "source": [
    "class Student:\n",
    "    name = \"Samruddhi Bhagwat\"\n",
    "\n",
    "s1=Student()\n",
    "print(s1.name)\n",
    "\n",
    "#s2=Student()\n",
    "#print(s2.name)"
   ]
  },
  {
   "cell_type": "code",
   "execution_count": 25,
   "id": "cf01dcca-87ba-4cf0-8ffb-3dfdfa496d98",
   "metadata": {},
   "outputs": [
    {
     "name": "stdout",
     "output_type": "stream",
     "text": [
      "samruddhi\n",
      "98\n",
      "Sarthak\n",
      "89\n"
     ]
    }
   ],
   "source": [
    "class Student:\n",
    "    \n",
    "     def __init__(self,name,marks):\n",
    "        self.name=name\n",
    "        self.marks=marks\n",
    "s1=Student(\"samruddhi\",98)\n",
    "print(s1.name)\n",
    "print(s1.marks)\n",
    "\n",
    "s2=Student(\"Sarthak\",89)\n",
    "print(s2.name)\n",
    "print(s2.marks)"
   ]
  },
  {
   "cell_type": "code",
   "execution_count": 30,
   "id": "3e3b433b-72c7-467e-9fd8-5af3a34b02ea",
   "metadata": {},
   "outputs": [
    {
     "name": "stdout",
     "output_type": "stream",
     "text": [
      "samruddhi\n",
      "98\n",
      "Sarthak\n",
      "89\n"
     ]
    }
   ],
   "source": [
    "class Student:\n",
    "    college_name=\"Sppu\"  # Class Attribute\n",
    "  \n",
    "    print(\"college name is :\", Student.college_name)\n",
    "    \n",
    "    def __init__(self,name,marks):\n",
    "        self.name=name    # Object Attribute \n",
    "        self.marks=marks\n",
    "s1=Student(\"samruddhi\",98)\n",
    "print(s1.name)\n",
    "print(s1.marks)\n",
    "\n",
    "s2=Student(\"Sarthak\",89)\n",
    "print(s2.name)\n",
    "print(s2.marks)\n",
    "\n",
    "\n"
   ]
  },
  {
   "cell_type": "code",
   "execution_count": null,
   "id": "5d0f03e2-fbce-4b24-9685-33396b242b79",
   "metadata": {},
   "outputs": [],
   "source": []
  }
 ],
 "metadata": {
  "kernelspec": {
   "display_name": "Python 3 (ipykernel)",
   "language": "python",
   "name": "python3"
  },
  "language_info": {
   "codemirror_mode": {
    "name": "ipython",
    "version": 3
   },
   "file_extension": ".py",
   "mimetype": "text/x-python",
   "name": "python",
   "nbconvert_exporter": "python",
   "pygments_lexer": "ipython3",
   "version": "3.12.7"
  }
 },
 "nbformat": 4,
 "nbformat_minor": 5
}
